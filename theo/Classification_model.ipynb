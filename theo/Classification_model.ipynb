{
 "cells": [
  {
   "cell_type": "markdown",
   "metadata": {},
   "source": [
    "<h1>1. Import Libraries</h1>"
   ]
  },
  {
   "cell_type": "code",
   "execution_count": 25,
   "metadata": {},
   "outputs": [],
   "source": [
    "import os\n",
    "import pandas as pd\n",
    "from PIL import Image\n",
    "\n",
    "import torch\n",
    "import torch.nn as nn\n",
    "import torch.optim as optim\n",
    "from torch.utils.data import DataLoader\n",
    "from torchvision import models, transforms"
   ]
  },
  {
   "cell_type": "markdown",
   "metadata": {},
   "source": [
    "<h1>2. Data Preprocessing</h1>"
   ]
  },
  {
   "cell_type": "code",
   "execution_count": 26,
   "metadata": {},
   "outputs": [],
   "source": [
    "# Function to load and preprocess the dataset\n",
    "def load_data(csv_file, img_dir, transform=None):\n",
    "    data = pd.read_csv(csv_file)\n",
    "    images, physical_features, labels = [], [], []\n",
    "\n",
    "    for idx in range(len(data)):\n",
    "        img_id = str(data.iloc[idx]['id'])\n",
    "        img_path = os.path.join(img_dir, f\"{img_id}.jpg\")\n",
    "        image = Image.open(img_path).convert(\"RGB\")\n",
    "        \n",
    "        if transform:\n",
    "            image = transform(image)\n",
    "        \n",
    "        stable_height = int(data.iloc[idx]['stable_height']) - 1  # zero-based class index\n",
    "        block_type = data.iloc[idx]['type']\n",
    "        cam_angle = data.iloc[idx]['cam_angle']\n",
    "\n",
    "        images.append(image)\n",
    "        physical_features.append([block_type, cam_angle])\n",
    "        labels.append(stable_height)\n",
    "    \n",
    "    return images, torch.tensor(physical_features, dtype=torch.float32), torch.tensor(labels)\n"
   ]
  },
  {
   "cell_type": "markdown",
   "metadata": {},
   "source": [
    "<h1>3. Model Definition</h1>"
   ]
  },
  {
   "cell_type": "code",
   "execution_count": 27,
   "metadata": {},
   "outputs": [],
   "source": [
    "# Define the model\n",
    "class CustomResNetWithFeatures(nn.Module):\n",
    "    def __init__(self, num_types, num_classes):\n",
    "        super(CustomResNetWithFeatures, self).__init__()\n",
    "        self.resnet = models.resnet18(pretrained=True)  # Using ResNet18\n",
    "        self.resnet.fc = nn.Linear(self.resnet.fc.in_features, 128)  # Modify ResNet output to 128 features\n",
    "\n",
    "        # Embedding for block type\n",
    "        self.type_embedding = nn.Embedding(num_types, 10)  # Embedding for block types\n",
    "        \n",
    "        # Fully connected layers for classification\n",
    "        self.fc1 = nn.Linear(128 + 10 + 1, 64)  # Combine image features, block type embedding, and cam_angle\n",
    "        self.fc2 = nn.Linear(64, num_classes)  # Final output for classification (logits for each class)\n",
    "\n",
    "    def forward(self, x, block_type, cam_angle):\n",
    "        x = self.resnet(x)  # Pass through ResNet\n",
    "        type_embed = self.type_embedding(block_type)  # Get block type embeddings\n",
    "        cam_angle = cam_angle.unsqueeze(1)  # Ensure cam_angle has correct shape\n",
    "        \n",
    "        # Concatenate features\n",
    "        combined = torch.cat((x, type_embed, cam_angle), dim=1)\n",
    "        \n",
    "        x = torch.relu(self.fc1(combined))  # Pass through the first fully connected layer\n",
    "        logits = self.fc2(x)  # Get final class logits\n",
    "        return logits"
   ]
  },
  {
   "cell_type": "markdown",
   "metadata": {},
   "source": [
    "<h1>4. Training Function</h1>"
   ]
  },
  {
   "cell_type": "code",
   "execution_count": 28,
   "metadata": {},
   "outputs": [],
   "source": [
    "def train_model(csv_file_path, images_dir_path, num_types, num_classes=6, num_epochs=10, batch_size=16, model_save_path=\"model.pth\"):\n",
    "    # Define image transformations\n",
    "    transform = transforms.Compose([\n",
    "        transforms.RandomRotation(15),\n",
    "        transforms.RandomResizedCrop(224, scale=(0.8, 1.0)),\n",
    "        transforms.ColorJitter(brightness=0.1, contrast=0.1, saturation=0.1, hue=0.1),\n",
    "        transforms.ToTensor(),\n",
    "        transforms.Normalize(mean=[0.485, 0.456, 0.406], std=[0.229, 0.224, 0.225])\n",
    "    ])\n",
    "    \n",
    "    # Load data\n",
    "    images, physical_features, labels = load_data(csv_file_path, images_dir_path, transform)\n",
    "    dataset = list(zip(images, physical_features, labels))\n",
    "    \n",
    "    # Use DataLoader without the need to stack tensors manually\n",
    "    dataloader = DataLoader(dataset, batch_size=batch_size, shuffle=True)\n",
    "\n",
    "    # Initialize model and optimizer\n",
    "    model = CustomResNetWithFeatures(num_types, num_classes)\n",
    "    criterion = nn.CrossEntropyLoss()  # For classification\n",
    "    optimizer = optim.Adam(model.parameters(), lr=0.0002, weight_decay=1e-4)\n",
    "\n",
    "    device = torch.device('cuda' if torch.cuda.is_available() else 'cpu')\n",
    "    model.to(device)\n",
    "\n",
    "    # Training loop\n",
    "    for epoch in range(num_epochs):\n",
    "        running_loss = 0.0\n",
    "        running_correct = 0\n",
    "        model.train()\n",
    "\n",
    "        for batch in dataloader:\n",
    "            images, physical_features, stable_heights = batch\n",
    "            images = images.to(device)  # No need to stack, already a tensor\n",
    "            block_type = (physical_features[:, 0] - 1).long().to(device)\n",
    "            cam_angle = physical_features[:, 1].to(device)\n",
    "            stable_heights = stable_heights.to(device)\n",
    "\n",
    "            optimizer.zero_grad()\n",
    "            logits = model(images, block_type, cam_angle)\n",
    "            loss = criterion(logits, stable_heights)\n",
    "            loss.backward()\n",
    "            optimizer.step()\n",
    "\n",
    "            running_loss += loss.item()\n",
    "            _, predicted_classes = torch.max(logits, 1)\n",
    "            running_correct += (predicted_classes == stable_heights).sum().item()\n",
    "\n",
    "        accuracy = running_correct / len(dataloader.dataset)\n",
    "        print(f\"Epoch [{epoch+1}/{num_epochs}], Loss: {running_loss/len(dataloader.dataset):.4f}, Accuracy: {accuracy:.4f}\")\n",
    "\n",
    "        # Save the model after every epoch\n",
    "        torch.save(model.state_dict(), f\"{model_save_path}_{epoch+1}.pth\")\n",
    "        print(f\"Model saved after Epoch {epoch+1} to {model_save_path}\")\n",
    "    \n",
    "    return model"
   ]
  },
  {
   "cell_type": "markdown",
   "metadata": {},
   "source": [
    "<h1>7. Running the Training</h1>"
   ]
  },
  {
   "cell_type": "code",
   "execution_count": 29,
   "metadata": {},
   "outputs": [],
   "source": [
    "def load_model(model_save_path, num_types, num_classes):\n",
    "    # Initialize the model\n",
    "    model = CustomResNetWithFeatures(num_types, num_classes)\n",
    "    \n",
    "    # Load the saved model state dict\n",
    "    model.load_state_dict(torch.load(model_save_path))\n",
    "    model.eval()  # Set the model to evaluation mode (important for inference)\n",
    "    \n",
    "    return model\n"
   ]
  },
  {
   "cell_type": "code",
   "execution_count": 30,
   "metadata": {},
   "outputs": [],
   "source": [
    "csv_file_path = '../COMP90086_2024_Project_train/train.csv'  # Path to your training CSV\n",
    "images_dir_path = '../COMP90086_2024_Project_train/train'  # Path to your training images\n",
    "# model = train_model(csv_file_path, images_dir_path, num_types=2, num_classes=6, model_save_path='models/model') # comment/ uncomment to start training"
   ]
  },
  {
   "cell_type": "markdown",
   "metadata": {},
   "source": [
    "<h1>Prediction time</h1>"
   ]
  },
  {
   "cell_type": "code",
   "execution_count": 32,
   "metadata": {},
   "outputs": [],
   "source": [
    "# 2. Preprocess the image\n",
    "def preprocess_image(image_path):\n",
    "    transform = transforms.Compose([\n",
    "        transforms.Resize((224, 224)),  # Resize to match training size\n",
    "        transforms.ToTensor(),\n",
    "        transforms.Normalize(mean=[0.485, 0.456, 0.406], std=[0.229, 0.224, 0.225])  # Apply the same normalization used during training\n",
    "    ])\n",
    "    \n",
    "    # Load image using PIL\n",
    "    image = Image.open(image_path).convert('RGB')\n",
    "    \n",
    "    # Apply transformations and return a batch with a single image (unsqueeze to add batch dimension)\n",
    "    return transform(image).unsqueeze(0)\n",
    "\n",
    "# 3. Make a prediction\n",
    "def predict_image(model, image_tensor, block_type, cam_angle):\n",
    "    device = torch.device('cuda' if torch.cuda.is_available() else 'cpu')\n",
    "    model = model.to(device)\n",
    "    image_tensor = image_tensor.to(device)\n",
    "    block_type = torch.tensor([block_type]).to(device).long()  # Pass as tensor\n",
    "    cam_angle = torch.tensor([cam_angle]).to(device).float()   # Pass as tensor\n",
    "    \n",
    "    with torch.no_grad():  # Disable gradient calculations for inference\n",
    "        logits = model(image_tensor, block_type, cam_angle)\n",
    "        predicted_class = torch.argmax(logits, dim=1).item() + 1  # Convert prediction to class (add 1 for class range [1-6])\n",
    "    \n",
    "    return predicted_class"
   ]
  },
  {
   "cell_type": "code",
   "execution_count": 36,
   "metadata": {},
   "outputs": [
    {
     "name": "stderr",
     "output_type": "stream",
     "text": [
      "/tmp/ipykernel_4837/2880287504.py:6: FutureWarning: You are using `torch.load` with `weights_only=False` (the current default value), which uses the default pickle module implicitly. It is possible to construct malicious pickle data which will execute arbitrary code during unpickling (See https://github.com/pytorch/pytorch/blob/main/SECURITY.md#untrusted-models for more details). In a future release, the default value for `weights_only` will be flipped to `True`. This limits the functions that could be executed during unpickling. Arbitrary objects will no longer be allowed to be loaded via this mode unless they are explicitly allowlisted by the user via `torch.serialization.add_safe_globals`. We recommend you start setting `weights_only=True` for any use case where you don't have full control of the loaded file. Please open an issue on GitHub for any issues related to this experimental feature.\n",
      "  model.load_state_dict(torch.load(model_save_path))\n"
     ]
    }
   ],
   "source": [
    "# 4. Example usage\n",
    "model_path = 'models/model_5.pth'  # Path to the saved model\n",
    "folder_path = '../COMP90086_2024_Project_test/test'  # Path to the input image\n",
    "num_types = 2  # Adjust based on your dataset\n",
    "num_classes = 6  # Number of stable_height classes\n",
    "\n",
    "# Load model\n",
    "model = load_model(model_path, num_types, num_classes)\n",
    "\n",
    "predictions = {\"id\":[], \"stable_height\":[]}"
   ]
  },
  {
   "cell_type": "code",
   "execution_count": 37,
   "metadata": {},
   "outputs": [],
   "source": [
    "for image in os.listdir(folder_path):\n",
    "    image_id = image.strip(\".jpg\")\n",
    "    image_tensor = preprocess_image(f\"{folder_path}/{image}\")\n",
    "\n",
    "    # Predict stable height (assuming default block_type=1, cam_angle=0.0, adjust as needed)\n",
    "    predicted_class = predict_image(model, image_tensor, block_type=1, cam_angle=0.0)\n",
    "\n",
    "    # update the dict\n",
    "    predictions[\"id\"].append(image_id)\n",
    "    predictions[\"stable_height\"].append(predicted_class)"
   ]
  },
  {
   "cell_type": "code",
   "execution_count": 38,
   "metadata": {},
   "outputs": [],
   "source": [
    "df = pd.DataFrame(predictions)\n",
    "df.to_csv(\"pred.csv\", index=False)"
   ]
  }
 ],
 "metadata": {
  "kernelspec": {
   "display_name": "Python 3",
   "language": "python",
   "name": "python3"
  },
  "language_info": {
   "codemirror_mode": {
    "name": "ipython",
    "version": 3
   },
   "file_extension": ".py",
   "mimetype": "text/x-python",
   "name": "python",
   "nbconvert_exporter": "python",
   "pygments_lexer": "ipython3",
   "version": "3.12.6"
  }
 },
 "nbformat": 4,
 "nbformat_minor": 2
}
